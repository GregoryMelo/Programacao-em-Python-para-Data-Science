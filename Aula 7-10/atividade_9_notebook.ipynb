{
 "cells": [
  {
   "cell_type": "markdown",
   "id": "f9bb2fed-35cd-4697-99cf-3b832a4ad8aa",
   "metadata": {},
   "source": [
    "# Exercício 1"
   ]
  },
  {
   "cell_type": "markdown",
   "id": "9c78b40e-0640-461b-9b9b-4bbc23d5a379",
   "metadata": {},
   "source": [
    "## Crie uma lista de números inteiros. Utilize map e uma expressão lambda para dobrar cada número da lista. Em seguida, utilize filter e outra expressão lambda para filtrar apenas os números ímpares do resultado."
   ]
  },
  {
   "cell_type": "code",
   "execution_count": 29,
   "id": "77de1116-f8bb-452f-b635-1d54e648132e",
   "metadata": {},
   "outputs": [
    {
     "name": "stdout",
     "output_type": "stream",
     "text": [
      "Lista normal:     [1, 2, 3, 4, 5, 6, 7, 8, 9, 10]\n",
      "Numeros dobrados: [2, 4, 6, 8, 10, 12, 14, 16, 18, 20]\n",
      "Numeros impares:  [1, 3, 5, 7, 9]\n"
     ]
    }
   ],
   "source": [
    "lista = list(range(1, 11))\n",
    "dobro = list(map(lambda x: x * 2, lista))\n",
    "impar = list(filter(lambda x: x % 2 == 1, lista))  # Mantenha a lista original para os ímpares\n",
    "\n",
    "print(f'Lista normal:     {lista}\\nNumeros dobrados: {dobro}\\nNumeros impares:  {impar}')\n"
   ]
  },
  {
   "cell_type": "markdown",
   "id": "2ca82905-aa74-4d19-9831-2fa2f78ee13a",
   "metadata": {},
   "source": [
    "# Exercício 2"
   ]
  },
  {
   "cell_type": "markdown",
   "id": "f1b6ba2d-96f8-4f12-bea9-9b8fd0b7d565",
   "metadata": {},
   "source": [
    "## Crie uma lista de palavras. Utilize map e uma expressão lambda para converter todas as palavras para maiúsculas. Em seguida, utilize filter e outra expressão lambda para filtrar as palavras com mais de 5 caracteres."
   ]
  },
  {
   "cell_type": "code",
   "execution_count": 52,
   "id": "a8dbd40b-7c20-41bf-97f1-b485b1d176b3",
   "metadata": {},
   "outputs": [
    {
     "name": "stdout",
     "output_type": "stream",
     "text": [
      "Lista Principal -> ['Bandeija', 'Carvão', 'Preço']\n",
      "\n",
      "CapsLock -> ['BANDEIJA', 'CARVÃO', 'PREÇO']\n",
      "\n",
      "Maior que 5 Caracteres - > ['BANDEIJA', 'CARVÃO']\n",
      "\n"
     ]
    }
   ],
   "source": [
    "lista_de_palavras = ['Bandeija', 'Carvão', 'Preço']\n",
    "print(f'Lista Principal -> {lista_de_palavras}\\n')\n",
    "convert = list(map(lambda x: x.upper(), lista_de_palavras))\n",
    "print(f'CapsLock -> {convert}\\n')\n",
    "\n",
    "filtro = list(filter(lambda x: len(x) > 5, convert))\n",
    "print(f'Maior que 5 Caracteres - > {filtro}\\n')"
   ]
  },
  {
   "cell_type": "markdown",
   "id": "b301f5b7-8e4e-4f5b-bf50-4122718b21e9",
   "metadata": {},
   "source": [
    "# Exercício 3"
   ]
  },
  {
   "cell_type": "markdown",
   "id": "4482cdb1-cc51-4d80-8140-a95f700f5cd7",
   "metadata": {},
   "source": [
    "## Crie uma lista de números inteiros positivos e negativos. Utilize filter e map para calcular o quadrado apenas dos números positivos."
   ]
  },
  {
   "cell_type": "code",
   "execution_count": 69,
   "id": "529aa6fe-9487-41a2-8377-68af511bfde6",
   "metadata": {},
   "outputs": [
    {
     "name": "stdout",
     "output_type": "stream",
     "text": [
      "Lista Principal -> [-5, -4, -3, -2, -1, 0, 1, 2, 3, 4, 5]\n",
      "Lista Positiva dos Quadrados -> [25, 16, 9, 4, 1, 1, 4, 9, 16, 25]\n"
     ]
    }
   ],
   "source": [
    "lista = list(range(-5, 6))\n",
    "print(f'Lista Principal -> {lista}')\n",
    "\n",
    "quadrados = list(map(lambda x: x * x, lista))\n",
    "positivos = list(filter(lambda x: x > 0, quadrados))\n",
    "print(f'Lista Positiva dos Quadrados -> {positivos}')"
   ]
  },
  {
   "cell_type": "markdown",
   "id": "253fe0aa-fc15-4e7a-8f3a-39492ecaf46a",
   "metadata": {},
   "source": [
    "# Exercício 4"
   ]
  },
  {
   "cell_type": "markdown",
   "id": "b788b247-0067-4ebe-83f6-32b2287cdf7c",
   "metadata": {},
   "source": [
    "## Crie uma lista de nomes. Utilize map e uma expressão lambda para criar uma nova lista contendo apenas o primeiro caractere de cada nome."
   ]
  },
  {
   "cell_type": "code",
   "execution_count": 77,
   "id": "4ebe1f47-b87b-4a7d-9ef9-7cb6783b568a",
   "metadata": {},
   "outputs": [
    {
     "name": "stdout",
     "output_type": "stream",
     "text": [
      "['T', 'L', 'M']\n"
     ]
    }
   ],
   "source": [
    "nomes = ['Thiago', 'Leo', 'Mika']\n",
    "\n",
    "caracteres = list(map(lambda x: x[0] if len(x) > 1 else '', nomes))\n",
    "print(caracteres)"
   ]
  },
  {
   "cell_type": "markdown",
   "id": "6297ef3e-299c-4bd9-bb99-f37ca3cd5a6c",
   "metadata": {},
   "source": [
    "# Exercício 5"
   ]
  },
  {
   "cell_type": "markdown",
   "id": "57a8179d-62c1-454f-bfd6-187d9ce975c4",
   "metadata": {},
   "source": [
    "## Crie uma lista de dicionários, onde cada dicionário representa um funcionário com os atributos \"nome\" e \"salario\". Utilize map e uma expressão lambda para aumentar o salário de cada funcionário em 10%."
   ]
  },
  {
   "cell_type": "code",
   "execution_count": 78,
   "id": "ce549c1d-f6cc-4714-bcb3-0f8aeb64310b",
   "metadata": {},
   "outputs": [],
   "source": [
    "funcionarios = [\n",
    "    {\"nome\": \"Alice\", \"salario\": 3000},\n",
    "    {\"nome\": \"Bob\", \"salario\": 2500},\n",
    "    {\"nome\": \"Carla\", \"salario\": 4000},\n",
    "    {\"nome\": \"Daniel\", \"salario\": 3500}\n",
    "]\n",
    "funcionarios_ajustados = list(map(lambda f: {**f, \"salario\": f[\"salario\"] * 1.0}, funcionarios))\n"
   ]
  },
  {
   "cell_type": "markdown",
   "id": "5197ad90-5e64-44c0-882d-71d3f00c4b2a",
   "metadata": {},
   "source": []
  },
  {
   "cell_type": "markdown",
   "id": "16991410-15fb-4b97-a0c2-d9e27577a43b",
   "metadata": {},
   "source": []
  },
  {
   "cell_type": "code",
   "execution_count": 79,
   "id": "adc8fe1f-7f61-4396-8fb3-180e404fe89e",
   "metadata": {},
   "outputs": [
    {
     "name": "stdout",
     "output_type": "stream",
     "text": [
      "Funcionários originais:\n",
      "{'nome': 'Alice', 'salario': 3000}\n",
      "{'nome': 'Bob', 'salario': 2500}\n",
      "{'nome': 'Carla', 'salario': 4000}\n",
      "{'nome': 'Daniel', 'salario': 3500}\n",
      "\n",
      "Funcionários com salário aumentado em 10%:\n",
      "{'nome': 'Alice', 'salario': 3000.0}\n",
      "{'nome': 'Bob', 'salario': 2500.0}\n",
      "{'nome': 'Carla', 'salario': 4000.0}\n",
      "{'nome': 'Daniel', 'salario': 3500.0}\n"
     ]
    }
   ],
   "source": [
    "print(\"Funcionários originais:\")\n",
    "for f in funcionarios:\n",
    "    print(f)\n",
    "print(\"\\nFuncionários com salário aumentado em 10%:\")\n",
    "for f in funcionarios_ajustados:\n",
    "    print(f)"
   ]
  },
  {
   "cell_type": "code",
   "execution_count": null,
   "id": "44d2604f",
   "metadata": {},
   "outputs": [],
   "source": []
  }
 ],
 "metadata": {
  "kernelspec": {
   "display_name": "Python 3 (ipykernel)",
   "language": "python",
   "name": "python3"
  },
  "language_info": {
   "codemirror_mode": {
    "name": "ipython",
    "version": 3
   },
   "file_extension": ".py",
   "mimetype": "text/x-python",
   "name": "python",
   "nbconvert_exporter": "python",
   "pygments_lexer": "ipython3",
   "version": "3.11.4"
  }
 },
 "nbformat": 4,
 "nbformat_minor": 5
}

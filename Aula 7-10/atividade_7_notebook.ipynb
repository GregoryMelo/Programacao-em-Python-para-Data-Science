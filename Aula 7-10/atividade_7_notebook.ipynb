{
 "cells": [
  {
   "cell_type": "markdown",
   "id": "a06d1022",
   "metadata": {},
   "source": [
    "# Exercício 1"
   ]
  },
  {
   "cell_type": "markdown",
   "id": "7d9b0b38",
   "metadata": {},
   "source": [
    "## Cria uma função que:\n",
    "\n",
    "### - Receba uma lista como argumento;\n",
    "### - Retorna uma lista apenas com os valores pares da lista original;"
   ]
  },
  {
   "cell_type": "code",
   "execution_count": 32,
   "id": "39ff33fd",
   "metadata": {},
   "outputs": [],
   "source": [
    "lista = [1, 2, 3, 4, 5, 6, 7, 8, 9, 10]\n",
    "\n",
    "def filtrar_pares(lista):\n",
    "    pares = [num for num in lista if num % 2 == 0]\n",
    "    return pares"
   ]
  },
  {
   "cell_type": "code",
   "execution_count": 33,
   "id": "f93fe1e5",
   "metadata": {},
   "outputs": [
    {
     "name": "stdout",
     "output_type": "stream",
     "text": [
      "Lista de valores pares retornada: [2, 4, 6, 8, 10]\n"
     ]
    }
   ],
   "source": [
    "minha_lista = [1, 2, 3, 4, 5, 6, 7, 8, 9, 10]\n",
    "resultado = filtrar_pares(minha_lista)\n",
    "print(\"Lista de valores pares retornada:\", resultado)"
   ]
  },
  {
   "cell_type": "markdown",
   "id": "d065fda7",
   "metadata": {},
   "source": [
    "# Exercício 2"
   ]
  },
  {
   "cell_type": "markdown",
   "id": "1d8b9c3e",
   "metadata": {},
   "source": [
    "## Crie uma função que:\n",
    "\n",
    "### - Receba 4 notas de um aluno;\n",
    "### - Calcule a média;\n",
    "### - Retorne uma mensagem com a média final."
   ]
  },
  {
   "cell_type": "code",
   "execution_count": 64,
   "id": "1d674054",
   "metadata": {},
   "outputs": [],
   "source": [
    "def calcular_media(notas):\n",
    "    media = sum(notas) / len(notas)\n",
    "    print(f\"A média final é: {media:.2f}\")"
   ]
  },
  {
   "cell_type": "code",
   "execution_count": 65,
   "id": "8c477591",
   "metadata": {},
   "outputs": [
    {
     "name": "stdout",
     "output_type": "stream",
     "text": [
      "A média final é: 7.75\n"
     ]
    }
   ],
   "source": [
    "notas_aluno = [7.5, 8.0, 9.0, 6.5]\n",
    "calcular_media(notas_aluno)"
   ]
  },
  {
   "cell_type": "markdown",
   "id": "fd338c3a",
   "metadata": {},
   "source": [
    "# Exercício 3"
   ]
  },
  {
   "cell_type": "markdown",
   "id": "eb714736",
   "metadata": {},
   "source": [
    "## Crie uma função que:\n",
    "\n",
    "### - Receba os 3 lados de um triângulo;\n",
    "### - Classifique o tipo de triângulo sendo: Equilátero, Isóceles ou Escaleno.\n",
    "\n"
   ]
  },
  {
   "cell_type": "code",
   "execution_count": 62,
   "id": "180266c3",
   "metadata": {},
   "outputs": [],
   "source": [
    "def classificar_triangulo(lado1, lado2, lado3):\n",
    "    if lado1 == lado2 == lado3:\n",
    "        tipo = \"Equilátero\"\n",
    "    elif lado1 == lado2 or lado1 == lado3 or lado2 == lado3:\n",
    "        tipo = \"Isósceles\"\n",
    "    else:\n",
    "        tipo = \"Escaleno\"\n",
    "    \n",
    "    print(f\"O triângulo é: {tipo}\")\n"
   ]
  },
  {
   "cell_type": "code",
   "execution_count": 63,
   "id": "033ca9d3",
   "metadata": {},
   "outputs": [
    {
     "name": "stdout",
     "output_type": "stream",
     "text": [
      "O triângulo é: Isósceles\n"
     ]
    }
   ],
   "source": [
    "classificar_triangulo(5, 5, 10)"
   ]
  },
  {
   "cell_type": "markdown",
   "id": "cb6f884d",
   "metadata": {},
   "source": [
    "# Exercício 4"
   ]
  },
  {
   "cell_type": "markdown",
   "id": "434a5e97",
   "metadata": {},
   "source": [
    "## Crie uma função que:\n",
    "\n",
    "### - Receba itens de um estoque, com suas quantidades * Similar à estrutura do exercício do banco;\n",
    "### - Retorne uma mensagem ao final com os itens e suas quantidades;"
   ]
  },
  {
   "cell_type": "code",
   "execution_count": 79,
   "id": "869821f7",
   "metadata": {},
   "outputs": [
    {
     "name": "stdout",
     "output_type": "stream",
     "text": [
      "-- Itens no estoque: --\n",
      "| Maçãs: 10\n",
      "| Bananas: 5\n",
      "| Laranjas: 8\n",
      "-----------------------\n"
     ]
    }
   ],
   "source": [
    "def mostrar_estoque(estoque):\n",
    "    mensagem = \"-- Itens no estoque: --\\n\"\n",
    "    for item, quantidade in estoque.items():\n",
    "        mensagem += f\"| {item}: {quantidade}\\n\"\n",
    "        \n",
    "    print(mensagem.strip())\n",
    "    print('-----------------------')\n",
    "\n",
    "# Exemplo de chamada\n",
    "estoque_exemplo = {\n",
    "    \"Maçãs\": 10,\n",
    "    \"Bananas\": 5,\n",
    "    \"Laranjas\": 8\n",
    "}\n",
    "\n",
    "mostrar_estoque(estoque_exemplo)\n"
   ]
  },
  {
   "cell_type": "code",
   "execution_count": null,
   "id": "0da2c0cd",
   "metadata": {},
   "outputs": [],
   "source": []
  }
 ],
 "metadata": {
  "kernelspec": {
   "display_name": "Python 3 (ipykernel)",
   "language": "python",
   "name": "python3"
  },
  "language_info": {
   "codemirror_mode": {
    "name": "ipython",
    "version": 3
   },
   "file_extension": ".py",
   "mimetype": "text/x-python",
   "name": "python",
   "nbconvert_exporter": "python",
   "pygments_lexer": "ipython3",
   "version": "3.11.4"
  }
 },
 "nbformat": 4,
 "nbformat_minor": 5
}

{
 "cells": [
  {
   "cell_type": "markdown",
   "id": "b0e010a8-e6c7-4177-93c5-2d3d170dca54",
   "metadata": {},
   "source": [
    "# Exercício 1"
   ]
  },
  {
   "cell_type": "markdown",
   "id": "dca1d443-f905-4f8d-a2c2-4cd08aa94266",
   "metadata": {},
   "source": [
    "## Crie uma lista com os nomes de 5 frutas. Em seguida:\n",
    "### - Imprima a primeira e a última fruta da lista.\n",
    "### - Adicione 3 novas frutas à lista.\n",
    "### - Remova a segunda fruta da lista.\n",
    "### - Ordene a lista em ordem alfabética.\n",
    "### - Conte quantas vezes a fruta \"banana\" aparece na lista."
   ]
  },
  {
   "cell_type": "code",
   "execution_count": 53,
   "id": "fc7451ad-00c2-47bc-874f-e0e956cea612",
   "metadata": {},
   "outputs": [
    {
     "name": "stdout",
     "output_type": "stream",
     "text": [
      "1°\n",
      "Primeira fruta: Banana, Última fruta: Morango\n",
      "['Banana', 'Maça', 'Uva', 'Melancia', 'Morango']\n",
      "\n",
      "2° Inserindo novas frutas.\n",
      "['Banana', 'Maça', 'Uva', 'Melancia', 'Morango', 'Limão', 'Mixirica', 'Banana']\n",
      "\n",
      "3° Removendo a segunda fruta da lista.\n",
      "['Banana', 'Uva', 'Melancia', 'Morango', 'Limão', 'Mixirica', 'Banana']\n",
      "\n",
      "4° Colocando a lista em ordem alfabetica.\n",
      "['Banana', 'Banana', 'Limão', 'Melancia', 'Mixirica', 'Morango', 'Uva']\n",
      "\n",
      "5° Conta quantas vezes aparece a fruta \"Banana\" na lista.\n",
      "A fruta \"Banana\" aparece 2 vezes\n",
      "['Banana', 'Uva', 'Melancia', 'Morango', 'Limão', 'Mixirica', 'Banana']\n"
     ]
    }
   ],
   "source": [
    "# Criando a lista.\n",
    "frutas = ['Banana', 'Maça', 'Uva', 'Melancia', 'Morango']\n",
    "\n",
    "# Pegando a primeira e ultima fruta da lista.\n",
    "print(f\"1°\\nPrimeira fruta: {frutas[0]}, Última fruta: {frutas[-1]}\\n{frutas}\")\n",
    "\n",
    "\n",
    "# Inserindo 3 frutas novas.\n",
    "print('\\n2° Inserindo novas frutas.')\n",
    "frutas.extend(['Limão', 'Mixirica', 'Banana'])\n",
    "print(frutas)\n",
    "\n",
    "# Removendo a segunda fruta da lista.\n",
    "del frutas[1]\n",
    "print(f'\\n3° Removendo a segunda fruta da lista.\\n{frutas}')\n",
    "\n",
    "# Ordenando a lista em ordem alfabetica.\n",
    "print('\\n4° Colocando a lista em ordem alfabetica.')\n",
    "lista_ordenada = sorted(frutas)\n",
    "print(lista_ordenada)\n",
    "\n",
    "# Contando quantas vezes a fruta banana aparece na lista.\n",
    "print('\\n5° Conta quantas vezes aparece a fruta \"Banana\" na lista.')\n",
    "vezes = frutas.count('Banana')\n",
    "\n",
    "# Verifica o plural.\n",
    "if vezes == 1:\n",
    "    plural = 'vez'\n",
    "else:\n",
    "    plural = 'vezes'\n",
    "print(f'A fruta \"Banana\" aparece {vezes} {plural}\\n{frutas}')\n"
   ]
  },
  {
   "cell_type": "markdown",
   "id": "fc30dda1-10d3-4b33-8f7e-4c06eea02b53",
   "metadata": {},
   "source": [
    "# Exercício 2"
   ]
  },
  {
   "cell_type": "markdown",
   "id": "f3cb2cee-34eb-4b0c-a071-34c06c7c6357",
   "metadata": {},
   "source": [
    "## Crie uma tupla com os seguintes elementos: seu nome, sua idade e sua cidade natal. Em seguida:\n",
    "### - Imprima cada elemento da tupla em uma linha separada.\n",
    "### - Tente modificar o primeiro elemento da tupla e observe o que acontece. Explique o motivo.\n",
    "### - Crie uma nova tupla concatenando a tupla original com outra tupla contendo seus hobbies."
   ]
  },
  {
   "cell_type": "code",
   "execution_count": 63,
   "id": "1c28ea4c",
   "metadata": {
    "scrolled": true
   },
   "outputs": [
    {
     "name": "stdout",
     "output_type": "stream",
     "text": [
      "Leonardo\n",
      "18\n",
      "São Bernardo do Campo\n",
      "('Leonardo', 18, 'São Bernardo do Campo', 'Jogar', 'Programar', 'Desenhar')\n"
     ]
    }
   ],
   "source": [
    "# Criação da Tupla.\n",
    "tupla = ('Leonardo', 18, 'São Bernardo do Campo')\n",
    "\n",
    "# Imprimindo os itens em linhas separadas.\n",
    "for i in tupla:\n",
    "    print(i)\n",
    "    \n",
    "# Tuplas são imutaveis, significa que os elementos não podem ser alteradas diretamente.\n",
    "\n",
    "# Criando e concactenando as tuplas.\n",
    "hobbies = ('Jogar', 'Programar', 'Desenhar')\n",
    "nova_tupla = tupla + hobbies\n",
    "print(nova_tupla)\n"
   ]
  },
  {
   "cell_type": "markdown",
   "id": "aee1804e-2d47-47ff-9a65-dfef5b40f68e",
   "metadata": {},
   "source": [
    "# Exercício 3"
   ]
  },
  {
   "cell_type": "markdown",
   "id": "f02aa19b-51b8-4dfb-8a6f-6a1b04c671f1",
   "metadata": {},
   "source": [
    "## Crie um dicionário que represente um contato telefônico. As chaves serão o nome e os valores serão os números de telefone (pode ser mais de um número por pessoa). Em seguida:\n",
    "## - Adicione um novo contato ao dicionário.\n",
    "## - Remova um contato existente.\n",
    "## - Modifique o número de telefone de um contato.\n",
    "## - Imprima todos os nomes dos contatos."
   ]
  },
  {
   "cell_type": "code",
   "execution_count": 67,
   "id": "7d99f80c-73a3-45db-bc05-f63664576cf1",
   "metadata": {},
   "outputs": [
    {
     "name": "stdout",
     "output_type": "stream",
     "text": [
      "-- Nomes dos contatos --\n",
      "Gregori\n",
      "João\n"
     ]
    }
   ],
   "source": [
    "contatos = {\"Leo\": [\"1324-5228\"], \"Gregori\": [\"94346-5611\"]}\n",
    "\n",
    "contatos[\"João\"] = [\"1111-1112\"]\n",
    "contatos.pop(\"Leo\")\n",
    "contatos[\"Gregori\"] = [\"1111-2222\"]\n",
    "\n",
    "print(\"-- Nomes dos contatos --\")\n",
    "for nome in contatos:\n",
    "    print(nome)"
   ]
  },
  {
   "cell_type": "markdown",
   "id": "11b037eb-33ba-409c-875c-30d22a648a1d",
   "metadata": {},
   "source": [
    "# Exercício 4"
   ]
  },
  {
   "cell_type": "markdown",
   "id": "ca3e921e-3971-4dc4-9ea3-1fcc801104b6",
   "metadata": {},
   "source": [
    "## Crie um programa que simule um cadastro de produtos de uma loja. Cada produto terá um nome, preço e quantidade em estoque. Utilize um dicionário para armazenar os produtos. O programa deve permitir:\n",
    "### - Cadastrar novos produtos.\n",
    "### - Consultar informações de um produto específico.\n",
    "### - Alterar o preço de um produto.\n",
    "### - Remover um produto do cadastro."
   ]
  },
  {
   "cell_type": "code",
   "execution_count": null,
   "id": "01579f85-dc33-4658-afc4-a3077fa902eb",
   "metadata": {},
   "outputs": [],
   "source": [
    "produtos = {}\n",
    "\n",
    "def cadastrar_produto(nome, preco, quantidade):\n",
    "    produtos[nome] = {\"preco\": preco, \"quantidade\": quantidade}\n",
    "    print(f\"Produto '{nome}' cadastrado com sucesso!\")\n",
    "\n",
    "def consultar_produto(nome):\n",
    "    produto = produtos.get(nome)\n",
    "    if produto:\n",
    "        print(f\"Produto: {nome}, Preço: R${produto['preco']:.2f}, Quantidade: {produto['quantidade']}\")\n",
    "    else:\n",
    "        print(\"Produto não encontrado.\")\n",
    "\n",
    "def alterar_preco(nome, novo_preco):\n",
    "    if nome in produtos:\n",
    "        produtos[nome]['preco'] = novo_preco\n",
    "        print(f\"Preço do produto '{nome}' alterado para R${novo_preco:.2f}.\")\n",
    "    else:\n",
    "        print(\"Produto não encontrado.\")\n",
    "\n",
    "def remover_produto(nome):\n",
    "    if nome in produtos:\n",
    "        produtos.pop(nome)\n",
    "        print(f\"Produto '{nome}' removido com sucesso!\")\n",
    "    else:\n",
    "        print(\"Produto não encontrado.\")\n",
    "\n",
    "cadastrar_produto(\"Arroz\", 20.0, 50)\n",
    "consultar_produto(\"Arroz\")\n",
    "alterar_preco(\"Arroz\", 22.0)\n",
    "remover_produto(\"Arroz\")\n",
    "consultar_produto(\"Arroz\")\n",
    "\n"
   ]
  },
  {
   "cell_type": "markdown",
   "id": "b352bd68-3ccf-43ef-8fa4-13b584984c90",
   "metadata": {},
   "source": [
    "# Exercício 5"
   ]
  },
  {
   "cell_type": "markdown",
   "id": "93e8d280-3a46-4f55-855b-50e19608a053",
   "metadata": {},
   "source": [
    "## Crie uma lista de dicionários para representar um conjunto de alunos. Cada dicionário deve conter as seguintes informações: nome, idade, notas (uma lista com as notas de todas as provas). Em seguida:\n",
    "### - Calcule a média de cada aluno.\n",
    "### - Encontre o aluno com a maior média.\n",
    "### - Ordene os alunos por idade.\n",
    "### - Crie uma nova lista contendo apenas os nomes dos alunos com média acima de 7."
   ]
  },
  {
   "cell_type": "code",
   "execution_count": null,
   "id": "2d03e213-4e28-4f83-84cf-8daaa5c19704",
   "metadata": {},
   "outputs": [],
   "source": [
    "alunos = [\n",
    "    {\"nome\": \"Alice\", \"idade\": 20, \"notas\": [8.5, 7.0, 9.0]},\n",
    "    {\"nome\": \"Bruno\", \"idade\": 22, \"notas\": [6.0, 5.5, 7.5]},\n",
    "    {\"nome\": \"Carla\", \"idade\": 19, \"notas\": [9.0, 8.5, 10.0]},\n",
    "]\n",
    "\n",
    "# Calcula a média de cada aluno\n",
    "for aluno in alunos:\n",
    "    aluno['media'] = sum(aluno['notas']) / len(aluno['notas'])\n",
    "\n",
    "# Encontra o aluno com a maior média\n",
    "maior_media_aluno = max(alunos, key=lambda x: x['media'])\n",
    "\n",
    "# Ordena os alunos por idade\n",
    "alunos_ordenados = sorted(alunos, key=lambda x: x['idade'])\n",
    "\n",
    "# Cria uma nova lista com os nomes dos alunos com média acima de 7\n",
    "alunos_acima_7 = [aluno['nome'] for aluno in alunos if aluno['media'] > 7]\n",
    "\n",
    "# Resultados\n",
    "print(\"Média de cada aluno:\")\n",
    "for aluno in alunos:\n",
    "    print(f\"{aluno['nome']}: {aluno['media']:.2f}\")\n",
    "\n",
    "print(f\"\\nAluno com a maior média: {maior_media_aluno['nome']} ({maior_media_aluno['media']:.2f})\")\n",
    "print(\"\\nAlunos ordenados por idade:\")\n",
    "for aluno in alunos_ordenados:\n",
    "    print(aluno['nome'])\n",
    "\n",
    "print(\"\\nAlunos com média acima de 7:\")\n",
    "print(alunos_acima_7)"
   ]
  }
 ],
 "metadata": {
  "kernelspec": {
   "display_name": "Python 3 (ipykernel)",
   "language": "python",
   "name": "python3"
  },
  "language_info": {
   "codemirror_mode": {
    "name": "ipython",
    "version": 3
   },
   "file_extension": ".py",
   "mimetype": "text/x-python",
   "name": "python",
   "nbconvert_exporter": "python",
   "pygments_lexer": "ipython3",
   "version": "3.11.4"
  }
 },
 "nbformat": 4,
 "nbformat_minor": 5
}

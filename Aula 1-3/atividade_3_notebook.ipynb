{
 "cells": [
  {
   "cell_type": "markdown",
   "id": "0b186b30",
   "metadata": {},
   "source": [
    "# Exercício 1"
   ]
  },
  {
   "cell_type": "markdown",
   "id": "6525df42",
   "metadata": {},
   "source": [
    "### Crie um programa que imprima uma mensagem com seu nome, idade e altura, uando:"
   ]
  },
  {
   "cell_type": "markdown",
   "id": "8d3fd25c",
   "metadata": {},
   "source": [
    "#### - Concatenação de Strings"
   ]
  },
  {
   "cell_type": "code",
   "execution_count": 22,
   "id": "fece169b",
   "metadata": {},
   "outputs": [
    {
     "name": "stdout",
     "output_type": "stream",
     "text": [
      "Meu nome é Leonardo tenho 18 anos e tenho 1.76 de Altura.\n"
     ]
    }
   ],
   "source": [
    "Nome = 'Leonardo'\n",
    "Idade = 18\n",
    "Altura = 1.76\n",
    "\n",
    "print('Meu nome é ' +Nome+ ' tenho ' +str(Idade)+ ' anos e tenho ' +str(Altura)+ ' de altura.')"
   ]
  },
  {
   "cell_type": "markdown",
   "id": "67a6e9ae",
   "metadata": {},
   "source": [
    "#### - f-String"
   ]
  },
  {
   "cell_type": "code",
   "execution_count": 12,
   "id": "0fde0f69",
   "metadata": {},
   "outputs": [
    {
     "name": "stdout",
     "output_type": "stream",
     "text": [
      "Ola! me chamo Leonardo Gregori e quero ser um cientista de dados.\n"
     ]
    }
   ],
   "source": [
    "nome = 'Leonardo'\n",
    "sobrenome = 'Gregori'\n",
    "\n",
    "print(f'Ola! me chamo {nome} {sobrenome}. e quero ser um cientista de dados.')"
   ]
  },
  {
   "cell_type": "markdown",
   "id": "05c15f55-cd6e-4bac-98f2-e80e4a102dca",
   "metadata": {},
   "source": [
    "# Exercicio 2"
   ]
  },
  {
   "cell_type": "markdown",
   "id": "2e9f178f",
   "metadata": {},
   "source": [
    "### Crie um programa que receba os dados cadastrais de um cliente, sendo eles:\n",
    "\n",
    "#### - Nome:\n",
    "#### - Idade:\n",
    "#### - Cidade:\n",
    "#### - Estado:\n",
    "\n",
    "### Ao final, printe uma mensagem de finalização do cadastro do cliente, usando os dados do mesmo."
   ]
  },
  {
   "cell_type": "markdown",
   "id": "f5ecc678",
   "metadata": {},
   "source": [
    "#### - Nome:"
   ]
  },
  {
   "cell_type": "code",
   "execution_count": 16,
   "id": "b8784bbc",
   "metadata": {
    "scrolled": true
   },
   "outputs": [
    {
     "name": "stdout",
     "output_type": "stream",
     "text": [
      "Digite o seu nome: Leo\n"
     ]
    }
   ],
   "source": [
    "nome = input('Digite o seu nome: ') # Pega o nome do cliente"
   ]
  },
  {
   "cell_type": "markdown",
   "id": "11069cce",
   "metadata": {},
   "source": [
    "# - Idade:"
   ]
  },
  {
   "cell_type": "code",
   "execution_count": 17,
   "id": "85d58896",
   "metadata": {},
   "outputs": [
    {
     "name": "stdout",
     "output_type": "stream",
     "text": [
      "Digite a sua idade: 18\n"
     ]
    }
   ],
   "source": [
    "idade = int(input('Digite a sua idade: ')) # Pega a idade do cliente"
   ]
  },
  {
   "cell_type": "markdown",
   "id": "99307660",
   "metadata": {},
   "source": [
    "#### - Cidade:"
   ]
  },
  {
   "cell_type": "code",
   "execution_count": 18,
   "id": "166812ce",
   "metadata": {},
   "outputs": [
    {
     "name": "stdout",
     "output_type": "stream",
     "text": [
      "Digite o nome da sua cidade: São Bernardo do Campo\n"
     ]
    }
   ],
   "source": [
    "cidade = input('Digite o nome da sua cidade: ') # Pega a cidade do cliente"
   ]
  },
  {
   "cell_type": "markdown",
   "id": "a415762c",
   "metadata": {},
   "source": [
    "#### - Estado:"
   ]
  },
  {
   "cell_type": "code",
   "execution_count": 19,
   "id": "3d46c42d",
   "metadata": {},
   "outputs": [
    {
     "name": "stdout",
     "output_type": "stream",
     "text": [
      "Digite o nome do seu estado: São Paulo\n"
     ]
    }
   ],
   "source": [
    "estado = input('Digite o nome do seu estado: ') # Pega o estado do cliente"
   ]
  },
  {
   "cell_type": "markdown",
   "id": "6198a0b5-9229-4543-abf8-cacc8a4df7c1",
   "metadata": {},
   "source": [
    "### Mensagem de finalização de cadastro: "
   ]
  },
  {
   "cell_type": "code",
   "execution_count": 20,
   "id": "e985b6c7-12b9-41c6-99e9-614bd62a4a23",
   "metadata": {},
   "outputs": [
    {
     "name": "stdout",
     "output_type": "stream",
     "text": [
      "Dados cadastrais\n",
      "\n",
      "Nome: Leo.\n",
      "Idade: 18\n",
      "Cidade:São Bernardo do Campo\n",
      "Estado: São Paulo\n"
     ]
    }
   ],
   "source": [
    "print(f'Dados cadastrais\\n\\nNome: {nome}\\nIdade: {idade}\\nCidade: {cidade}\\nEstado: {estado}') # Imprime na tela os dados capturados"
   ]
  },
  {
   "cell_type": "code",
   "execution_count": null,
   "id": "6ce06514",
   "metadata": {},
   "outputs": [],
   "source": []
  }
 ],
 "metadata": {
  "kernelspec": {
   "display_name": "Python 3 (ipykernel)",
   "language": "python",
   "name": "python3"
  },
  "language_info": {
   "codemirror_mode": {
    "name": "ipython",
    "version": 3
   },
   "file_extension": ".py",
   "mimetype": "text/x-python",
   "name": "python",
   "nbconvert_exporter": "python",
   "pygments_lexer": "ipython3",
   "version": "3.11.4"
  }
 },
 "nbformat": 4,
 "nbformat_minor": 5
}

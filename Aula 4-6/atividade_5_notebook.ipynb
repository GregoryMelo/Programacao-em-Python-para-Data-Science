{
 "cells": [
  {
   "cell_type": "markdown",
   "id": "ef057a5b",
   "metadata": {},
   "source": [
    "# Exercício 1"
   ]
  },
  {
   "cell_type": "markdown",
   "id": "b46cb66b",
   "metadata": {},
   "source": [
    "## Utilizando os conceitos aprendidos até aqui, faça um programa que pede duas notas de um aluno. Em seguida ele deve calcular a média do aluno e dar o seguinte resultado:\n",
    "\n",
    "###    A mensagem \"Aprovado\", se a média alcançada for maior ou igual a sete;\n",
    "###   A mensagem \"Reprovado\", se a média for menor do que sete;\n",
    "###   A mensagem \"Aprovado com Distinção\", se a média for igual a dez."
   ]
  },
  {
   "cell_type": "markdown",
   "id": "a3e19e43",
   "metadata": {},
   "source": [
    "# N1:"
   ]
  },
  {
   "cell_type": "code",
   "execution_count": 98,
   "id": "4553408b",
   "metadata": {},
   "outputs": [],
   "source": [
    "# Inserindo a primeira nota\n",
    "n1 = 1"
   ]
  },
  {
   "cell_type": "markdown",
   "id": "37e64c28",
   "metadata": {},
   "source": [
    "# N2"
   ]
  },
  {
   "cell_type": "code",
   "execution_count": 99,
   "id": "d850e5d7",
   "metadata": {},
   "outputs": [],
   "source": [
    "# Inserindo a segunda nota\n",
    "n2 = 2"
   ]
  },
  {
   "cell_type": "markdown",
   "id": "6169716b",
   "metadata": {},
   "source": [
    "# Média"
   ]
  },
  {
   "cell_type": "code",
   "execution_count": 100,
   "id": "d60477a2",
   "metadata": {},
   "outputs": [],
   "source": [
    "# Calculando a media das notas\n",
    "media = n1 + n2\n",
    "media = media / 2"
   ]
  },
  {
   "cell_type": "markdown",
   "id": "d1c8c2e7",
   "metadata": {},
   "source": [
    "# Status final do Aluno: "
   ]
  },
  {
   "cell_type": "code",
   "execution_count": 101,
   "id": "795b315a",
   "metadata": {},
   "outputs": [
    {
     "name": "stdout",
     "output_type": "stream",
     "text": [
      "1.5\n",
      "Infelizmente você foi reprovado.\n"
     ]
    }
   ],
   "source": [
    "# Calculando para saber se o aluno foi aprovado ou reprovado.\n",
    "\n",
    "if media != 10 and media >= 7:\n",
    "    print(f'Você foi aprovado.')\n",
    "elif media < 7:\n",
    "    print(f'Infelizmente você foi reprovado.')\n",
    "else:\n",
    "    print(f'Parabéns! Você foi aprovado com {media} na média.')"
   ]
  },
  {
   "cell_type": "markdown",
   "id": "4fa91f90",
   "metadata": {},
   "source": [
    "# Exercício 2"
   ]
  },
  {
   "cell_type": "markdown",
   "id": "65a38b16",
   "metadata": {},
   "source": [
    "### Faça um Programa que peça os 3 lados de um triângulo. O programa deverá informar se os valores podem ser um triângulo. Indique, caso os lados formem um triângulo e se o mesmo é: equilátero, isósceles ou escaleno.\n",
    "\n",
    "####   Dicas:\n",
    "####   Três lados formam um triângulo quando a soma de quaisquer dois lados for maior que o terceiro;\n",
    "####   Triângulo Equilátero: três lados iguais;\n",
    "####   Triângulo Isósceles: quaisquer dois lados iguais;\n",
    "####   Triângulo Escaleno: três lados diferentes;\n"
   ]
  },
  {
   "cell_type": "markdown",
   "id": "b403e8cc",
   "metadata": {},
   "source": [
    "# Lado A: "
   ]
  },
  {
   "cell_type": "code",
   "execution_count": 155,
   "id": "31045c25",
   "metadata": {},
   "outputs": [
    {
     "name": "stdout",
     "output_type": "stream",
     "text": [
      "Digite o lado [A]: 2\n"
     ]
    }
   ],
   "source": [
    "# Inserindo o lado A.\n",
    "ladoA = float(input('Digite o lado [A]: '))"
   ]
  },
  {
   "cell_type": "markdown",
   "id": "4b633762",
   "metadata": {},
   "source": [
    "# Lado B:"
   ]
  },
  {
   "cell_type": "code",
   "execution_count": 151,
   "id": "630f5e73",
   "metadata": {},
   "outputs": [
    {
     "name": "stdout",
     "output_type": "stream",
     "text": [
      "Digite o lado [B]: 7\n"
     ]
    }
   ],
   "source": [
    "# Inserindo o lado B.\n",
    "ladoB = float(input('Digite o lado [B]: '))"
   ]
  },
  {
   "cell_type": "markdown",
   "id": "5cf1618b",
   "metadata": {},
   "source": [
    "# Lado C:"
   ]
  },
  {
   "cell_type": "code",
   "execution_count": 152,
   "id": "b3f24482",
   "metadata": {},
   "outputs": [
    {
     "name": "stdout",
     "output_type": "stream",
     "text": [
      "Digite o lado [C]: 8\n"
     ]
    }
   ],
   "source": [
    "# Inserindo o lado C.\n",
    "ladoC = float(input('Digite o lado [C]: '))"
   ]
  },
  {
   "cell_type": "markdown",
   "id": "c3bd732c",
   "metadata": {},
   "source": [
    "# Codigo:"
   ]
  },
  {
   "cell_type": "code",
   "execution_count": 156,
   "id": "a93fd6f1",
   "metadata": {},
   "outputs": [
    {
     "name": "stdout",
     "output_type": "stream",
     "text": [
      "Forma um triangulo Escaleno\n"
     ]
    }
   ],
   "source": [
    "# Calculando os valores de cada lado para descobrir qual triangulo se encaixa de acordo com os valores.\n",
    "if ladoA + ladoB > ladoC and ladoB + ladoC > ladoA and ladoC + ladoA > ladoB:\n",
    "    if ladoA == ladoB == ladoC:\n",
    "        print('Forma um triangulo Equilátero!')\n",
    "    elif ladoA == ladoB or ladoA == ladoC or ladoB == ladoC:\n",
    "        print('Forma um triangulo Isósceles')\n",
    "    else:\n",
    "        print('Forma um triangulo Escaleno')\n",
    "else:\n",
    "    # Esse print não sera necessariamente usado, pelo fato de que o campo de digitação so aceitar digitos numericos.\n",
    "    print('Valor inválido!')"
   ]
  },
  {
   "cell_type": "markdown",
   "id": "7db9e160",
   "metadata": {},
   "source": [
    "# Exercício 3"
   ]
  },
  {
   "attachments": {
    "image.png": {
     "image/png": "[encoded data removed]"
    }
   },
   "cell_type": "markdown",
   "id": "71631e65",
   "metadata": {},
   "source": [
    "### Crie um programa que calcule o salário líquido de um funcionário, considerando as seguintes faixas salariais e alíquotas de imposto:\n",
    "\n",
    "![image.png](attachment:image.png)"
   ]
  },
  {
   "cell_type": "markdown",
   "id": "de9cbaa7",
   "metadata": {},
   "source": [
    "# Salário"
   ]
  },
  {
   "cell_type": "code",
   "execution_count": 129,
   "id": "ce58a07b",
   "metadata": {},
   "outputs": [
    {
     "name": "stdout",
     "output_type": "stream",
     "text": [
      "Digite seu salario: 3700\n"
     ]
    }
   ],
   "source": [
    "# Inserindo o salario no campo de digitação.\n",
    "salario = float(input('Digite seu salario: '))"
   ]
  },
  {
   "cell_type": "code",
   "execution_count": 130,
   "id": "4171f80a",
   "metadata": {},
   "outputs": [
    {
     "name": "stdout",
     "output_type": "stream",
     "text": [
      "Aliquota com 15% de imposto.\n"
     ]
    }
   ],
   "source": [
    " #Seu codigo aqui\n",
    "\n",
    "# Controle de fluxo.\n",
    "if salario <= 2000:\n",
    "    print('Isento de imposto')\n",
    "\n",
    "# Calculando se o salario for maior e igual que 2001 e menor ou igual que 3500.\n",
    "elif salario >= 2001 and salario <= 3500:\n",
    "    imposto10 = 0.10\n",
    "    new_salario = salario * imposto10\n",
    "    new_salario = salario - new_salario\n",
    "    print('Aliquota com 10% de imposto.')\n",
    "\n",
    "# Calculando se o salario for maior e igual que 3501 e menor ou igual que 5000.\n",
    "elif salario >= 3501 and salario <= 5000:\n",
    "    imposto15 = 0.15\n",
    "    new_salario = salario * imposto15\n",
    "    new_salario = salario - new_salario\n",
    "    print('Aliquota com 15% de imposto.')\n",
    "    \n",
    "# Calculando se o salario for maior que 5001.\n",
    "else:\n",
    "    imposto20 = 0.20\n",
    "    new_salario = salario * imposto20\n",
    "    new_salario = salario - new_salario\n",
    "    print('Aliquota com 20% de imposto.')"
   ]
  },
  {
   "cell_type": "markdown",
   "id": "6057703c",
   "metadata": {},
   "source": [
    "# Salário Líquido: "
   ]
  },
  {
   "cell_type": "code",
   "execution_count": 131,
   "id": "8de2c82c",
   "metadata": {},
   "outputs": [
    {
     "name": "stdout",
     "output_type": "stream",
     "text": [
      "Salario atual: R$3145.0\n"
     ]
    }
   ],
   "source": [
    "print(f'Salario atual: R${new_salario}')"
   ]
  }
 ],
 "metadata": {
  "kernelspec": {
   "display_name": "Python 3 (ipykernel)",
   "language": "python",
   "name": "python3"
  },
  "language_info": {
   "codemirror_mode": {
    "name": "ipython",
    "version": 3
   },
   "file_extension": ".py",
   "mimetype": "text/x-python",
   "name": "python",
   "nbconvert_exporter": "python",
   "pygments_lexer": "ipython3",
   "version": "3.11.4"
  }
 },
 "nbformat": 4,
 "nbformat_minor": 5
}
